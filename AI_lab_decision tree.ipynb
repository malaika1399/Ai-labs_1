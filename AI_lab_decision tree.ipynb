{
 "cells": [
  {
   "cell_type": "code",
   "execution_count": null,
   "id": "7687c68c-2894-4974-8ba4-e12e3e1b5aee",
   "metadata": {},
   "outputs": [],
   "source": [
    "import numpy as np\n",
    "import pandas as pd\n",
    "from sklearn.tree import DecisionTreeClassifier, plot_tree\n",
    "import matplotlib.pyplot as plt\n",
    "\n",
    "# Step 1: Load Data\n",
    "data = pd.read_csv(\"C:/Users/ST/OneDrive/Desktop/resturant.csv\")\n",
    "\n",
    "  # assume dataset in CSV\n",
    "X = data.drop(\"Wait\", axis=1)\n",
    "y = data[\"Wait\"]\n",
    "\n",
    "# Convert categorical variables to numeric\n",
    "X = pd.get_dummies(X)\n",
    "\n",
    "# Step 2: Train Decision Tree\n",
    "tree_clf = DecisionTreeClassifier(criterion=\"entropy\", max_depth=4, random_state=42)\n",
    "tree_clf.fit(X, y)\n",
    "\n",
    "# Step 3: Visualize the Decision Tree\n",
    "plt.figure(figsize=(20,10))\n",
    "plot_tree(tree_clf, feature_names=X.columns, class_names=[\"No\",\"Yes\"], filled=True)\n",
    "plt.show()\n",
    "\n",
    "# Step 6: Evaluation\n",
    "from sklearn.metrics import accuracy_score\n",
    "y_pred = tree_clf.predict(X)\n",
    "print(\"Training Accuracy:\", accuracy_score(y, y_pred))"
   ]
  },
  {
   "cell_type": "code",
   "execution_count": null,
   "id": "3f5a43c1-e117-46c6-b31d-13c9e6ca9b0b",
   "metadata": {},
   "outputs": [],
   "source": [
    "# Exercise 1: Use Gini index instead of Entropy\n",
    "tree_gini = DecisionTreeClassifier(criterion=\"gini\", max_depth=4, random_state=42)\n",
    "tree_gini.fit(X, y)\n",
    "\n",
    "plt.figure(figsize=(20,10))\n",
    "plot_tree(tree_gini, feature_names=X.columns, class_names=[\"No\",\"Yes\"], filled=True)\n",
    "plt.title(\"Decision Tree (criterion = gini, depth = 4)\")\n",
    "plt.show()\n",
    "\n",
    "y_pred_gini = tree_gini.predict(X)\n",
    "print(\"Training Accuracy (gini, depth=4):\", accuracy_score(y, y_pred_gini))"
   ]
  },
  {
   "cell_type": "code",
   "execution_count": null,
   "id": "f1763aa2-93dc-4a0d-b683-f4e9b4a42a7a",
   "metadata": {},
   "outputs": [],
   "source": [
    "# Exercise 2: Limit depth = 2 (Entropy)\n",
    "tree_entropy_depth2 = DecisionTreeClassifier(criterion=\"entropy\", max_depth=2, random_state=42)\n",
    "tree_entropy_depth2.fit(X, y)\n",
    "\n",
    "plt.figure(figsize=(20,10))\n",
    "plot_tree(tree_entropy_depth2, feature_names=X.columns, class_names=[\"No\",\"Yes\"], filled=True)\n",
    "plt.title(\"Decision Tree (criterion = entropy, depth = 2)\")\n",
    "plt.show()\n",
    "\n",
    "y_pred_entropy2 = tree_entropy_depth2.predict(X)\n",
    "print(\"Training Accuracy (entropy, depth=2):\", accuracy_score(y, y_pred_entropy2))"
   ]
  },
  {
   "cell_type": "code",
   "execution_count": null,
   "id": "484ddd33-eede-4901-bab7-fc6260b95e3d",
   "metadata": {},
   "outputs": [],
   "source": [
    "# -----------------------------------\n",
    "# 5. Experiment\n",
    "# -----------------------------------\n",
    "# Remove \"Reservation\" attribute and retrain\n",
    "X_exp = data.drop([\"Wait\", \"Reservation\"], axis=1)\n",
    "X_exp = pd.get_dummies(X_exp)\n",
    "\n",
    "tree_exp = DecisionTreeClassifier(criterion=\"entropy\", max_depth=4, random_state=42)\n",
    "tree_exp.fit(X_exp, y)\n",
    "\n",
    "plt.figure(figsize=(20,10))\n",
    "plot_tree(tree_exp, feature_names=X_exp.columns, class_names=[\"No\",\"Yes\"], filled=True)\n",
    "plt.title(\"Decision Tree (without Reservation)\")\n",
    "plt.show()\n",
    "\n",
    "y_pred_exp = tree_exp.predict(X_exp)\n",
    "print(\"Training Accuracy (without Reservation):\", accuracy_score(y, y_pred_exp))"
   ]
  }
 ],
 "metadata": {
  "kernelspec": {
   "display_name": "Python 3 (ipykernel)",
   "language": "python",
   "name": "python3"
  },
  "language_info": {
   "codemirror_mode": {
    "name": "ipython",
    "version": 3
   },
   "file_extension": ".py",
   "mimetype": "text/x-python",
   "name": "python",
   "nbconvert_exporter": "python",
   "pygments_lexer": "ipython3",
   "version": "3.13.3"
  }
 },
 "nbformat": 4,
 "nbformat_minor": 5
}
