{
 "cells": [
  {
   "cell_type": "code",
   "execution_count": 17,
   "id": "a3322973-bd21-4b32-9337-84a7fbd9215a",
   "metadata": {},
   "outputs": [
    {
     "name": "stdout",
     "output_type": "stream",
     "text": [
      "1505\n",
      "1540\n",
      "1575\n",
      "1610\n",
      "1645\n",
      "1680\n",
      "1715\n",
      "1750\n",
      "1785\n",
      "1820\n",
      "1855\n",
      "1890\n",
      "1925\n",
      "1960\n",
      "1995\n",
      "2030\n",
      "2065\n",
      "2100\n",
      "2135\n",
      "2170\n",
      "2205\n",
      "2240\n",
      "2275\n",
      "2310\n",
      "2345\n",
      "2380\n",
      "2415\n",
      "2450\n",
      "2485\n",
      "2520\n",
      "2555\n",
      "2590\n",
      "2625\n",
      "2660\n",
      "2695\n"
     ]
    }
   ],
   "source": [
    "for i in range(1500,2701):\n",
    "    if(i%7==0 and i%5==0):\n",
    "        print(i) "
   ]
  },
  {
   "cell_type": "code",
   "execution_count": 18,
   "id": "8935556d-346f-4359-b708-90a0be159f42",
   "metadata": {},
   "outputs": [
    {
     "name": "stdout",
     "output_type": "stream",
     "text": [
      "140.0f\n",
      "7.222222222222222c\n"
     ]
    }
   ],
   "source": [
    "def temperatureConverter(temp,unit):\n",
    "   result=0\n",
    "   if(unit=='c'):\n",
    "      result=((temp)*9/5)+32\n",
    "      print(str(result) +'f')\n",
    "   elif(unit=='f'):\n",
    "     result=(temp-32)*5/9\n",
    "     print(str(result) +'c') \n",
    "\n",
    "temperatureConverter(60,'c')\n",
    "temperatureConverter(45,'f')"
   ]
  },
  {
   "cell_type": "code",
   "execution_count": 19,
   "id": "5f18b2ba-c9f2-43a5-8b7d-745a0293d0fd",
   "metadata": {},
   "outputs": [
    {
     "name": "stdin",
     "output_type": "stream",
     "text": [
      "Guess a number between 1 and 9 4\n"
     ]
    },
    {
     "name": "stdout",
     "output_type": "stream",
     "text": [
      "Wrong choice\n"
     ]
    },
    {
     "name": "stdin",
     "output_type": "stream",
     "text": [
      "Guess a number between 1 and 9 3\n"
     ]
    },
    {
     "name": "stdout",
     "output_type": "stream",
     "text": [
      "Wrong choice\n"
     ]
    },
    {
     "name": "stdin",
     "output_type": "stream",
     "text": [
      "Guess a number between 1 and 9 5\n"
     ]
    },
    {
     "name": "stdout",
     "output_type": "stream",
     "text": [
      "Wrong choice\n"
     ]
    },
    {
     "name": "stdin",
     "output_type": "stream",
     "text": [
      "Guess a number between 1 and 9 6\n"
     ]
    },
    {
     "name": "stdout",
     "output_type": "stream",
     "text": [
      "Wrong choice\n"
     ]
    },
    {
     "name": "stdin",
     "output_type": "stream",
     "text": [
      "Guess a number between 1 and 9 7\n"
     ]
    },
    {
     "name": "stdout",
     "output_type": "stream",
     "text": [
      "Wrong choice\n"
     ]
    },
    {
     "name": "stdin",
     "output_type": "stream",
     "text": [
      "Guess a number between 1 and 9 8\n"
     ]
    },
    {
     "name": "stdout",
     "output_type": "stream",
     "text": [
      "Wrong choice\n"
     ]
    },
    {
     "name": "stdin",
     "output_type": "stream",
     "text": [
      "Guess a number between 1 and 9 2\n"
     ]
    },
    {
     "name": "stdout",
     "output_type": "stream",
     "text": [
      "Wrong choice\n"
     ]
    },
    {
     "name": "stdin",
     "output_type": "stream",
     "text": [
      "Guess a number between 1 and 9 3\n"
     ]
    },
    {
     "name": "stdout",
     "output_type": "stream",
     "text": [
      "Wrong choice\n"
     ]
    },
    {
     "name": "stdin",
     "output_type": "stream",
     "text": [
      "Guess a number between 1 and 9 8\n"
     ]
    },
    {
     "name": "stdout",
     "output_type": "stream",
     "text": [
      "Wrong choice\n"
     ]
    },
    {
     "name": "stdin",
     "output_type": "stream",
     "text": [
      "Guess a number between 1 and 9 9\n"
     ]
    },
    {
     "name": "stdout",
     "output_type": "stream",
     "text": [
      "Wrong choice\n"
     ]
    },
    {
     "name": "stdin",
     "output_type": "stream",
     "text": [
      "Guess a number between 1 and 9 4\n"
     ]
    },
    {
     "name": "stdout",
     "output_type": "stream",
     "text": [
      "Wrong choice\n"
     ]
    },
    {
     "name": "stdin",
     "output_type": "stream",
     "text": [
      "Guess a number between 1 and 9 2\n"
     ]
    },
    {
     "name": "stdout",
     "output_type": "stream",
     "text": [
      "Wrong choice\n"
     ]
    },
    {
     "name": "stdin",
     "output_type": "stream",
     "text": [
      "Guess a number between 1 and 9 1\n"
     ]
    },
    {
     "name": "stdout",
     "output_type": "stream",
     "text": [
      "Well guessed\n",
      "\n"
     ]
    }
   ],
   "source": [
    "import random\n",
    "number = random.randint(1,9)\n",
    "while(True):\n",
    "   n= int(input(\"Guess a number between 1 and 9\"))\n",
    "   if(n==number):\n",
    "    print(\"Well guessed\\n\")\n",
    "    break\n",
    "   else:\n",
    "      print(\"Wrong choice\")"
   ]
  },
  {
   "cell_type": "code",
   "execution_count": 20,
   "id": "76961568-30bc-421d-97b5-ca30452dcb8d",
   "metadata": {},
   "outputs": [
    {
     "name": "stdout",
     "output_type": "stream",
     "text": [
      "*\n",
      "**\n",
      "***\n",
      "****\n",
      "*****\n",
      "****\n",
      "***\n",
      "**\n",
      "*\n",
      "\n"
     ]
    }
   ],
   "source": [
    "n=5\n",
    "temp=1\n",
    "reachedmax=False\n",
    "for i in range(0,2*n):\n",
    "   for j in range(0,temp):\n",
    "      print(\"*\",end=\"\")\n",
    "   print(\"\")\n",
    "   if (temp<n and not reachedmax):\n",
    "      temp=temp+1\n",
    "   elif(temp==n and not reachedmax):\n",
    "      reachedmax=True\n",
    "      temp=temp-1\n",
    "   else:\n",
    "      temp=temp-1"
   ]
  },
  {
   "cell_type": "code",
   "execution_count": 31,
   "id": "45fe95e7-50d6-4646-8df5-ac2566e2bc63",
   "metadata": {},
   "outputs": [
    {
     "name": "stdin",
     "output_type": "stream",
     "text": [
      "Enter a word and i will reverse it malaika\n"
     ]
    },
    {
     "name": "stdout",
     "output_type": "stream",
     "text": [
      "akialam\n"
     ]
    }
   ],
   "source": [
    "word=input(\"Enter a word and i will reverse it\")\n",
    "reversed=word[::-1]\n",
    "print(reversed)"
   ]
  },
  {
   "cell_type": "code",
   "execution_count": 21,
   "id": "e2f7b9ae-2630-4a25-97fd-5a7e5c8a83eb",
   "metadata": {},
   "outputs": [
    {
     "name": "stdout",
     "output_type": "stream",
     "text": [
      "Number of even numbers 3 \n",
      " Number of odd values 3\n"
     ]
    }
   ],
   "source": [
    "list1= [1,3,12,14,35,24]\n",
    "even=0\n",
    "odd=0\n",
    "for i in list1:\n",
    "   if(i%2==0):\n",
    "    even=even+1\n",
    "   else:\n",
    "      odd +=1\n",
    "print(\"Number of even numbers\",even,\"\\n Number of odd values\",odd)"
   ]
  },
  {
   "cell_type": "code",
   "execution_count": 22,
   "id": "90b5bcb7-d088-4b84-b8f6-55f35cf67445",
   "metadata": {},
   "outputs": [
    {
     "name": "stdout",
     "output_type": "stream",
     "text": [
      "123   <class 'int'>\n",
      "1.24   <class 'float'>\n",
      "(1+2j)   <class 'complex'>\n",
      "True   <class 'bool'>\n",
      "Hello   <class 'str'>\n",
      "(2, 5)   <class 'tuple'>\n",
      "[2, 5]   <class 'list'>\n",
      "{'String': 1, 'Section': 2}   <class 'dict'>\n"
     ]
    }
   ],
   "source": [
    "list2=[123,1.24,1+2j,True,\"Hello\",(2,5),[2,5],{\"String\":1,\"Section\":2}]\n",
    "\n",
    "for i in list2:\n",
    "   print(i,\" \",type(i))"
   ]
  },
  {
   "cell_type": "code",
   "execution_count": 23,
   "id": "338e9f0b-c2c6-4a8f-a739-6ebdce74aeab",
   "metadata": {},
   "outputs": [
    {
     "name": "stdout",
     "output_type": "stream",
     "text": [
      "0 1 2 4 5 "
     ]
    }
   ],
   "source": [
    "for i in range(7):\n",
    "   if(i==3 or i==6):\n",
    "      continue\n",
    "   print(i,end=\" \")"
   ]
  },
  {
   "cell_type": "code",
   "execution_count": 24,
   "id": "44b1d0d9-83e1-453b-968c-100335896a34",
   "metadata": {},
   "outputs": [
    {
     "name": "stdout",
     "output_type": "stream",
     "text": [
      "0\n",
      "1\n",
      "1\n",
      "2\n",
      "3\n",
      "5\n",
      "8\n",
      "13\n",
      "21\n",
      "34\n"
     ]
    }
   ],
   "source": [
    "#This code will print Fibonacci series' numbers between 0 to 50\n",
    "val1=0\n",
    "val2=1\n",
    "sum=0\n",
    "while(True):\n",
    "   print(sum)\n",
    "  \n",
    "   val1=val2\n",
    "   val2=sum\n",
    "   sum=val1+val2\n",
    "   if(sum>50):\n",
    "    break"
   ]
  },
  {
   "cell_type": "code",
   "execution_count": 25,
   "id": "d6092617-2bad-4758-9f65-0e984775ada4",
   "metadata": {},
   "outputs": [
    {
     "name": "stdout",
     "output_type": "stream",
     "text": [
      "1\n",
      "2\n",
      "Fizz\n",
      "4\n",
      "buzz\n",
      "Fizz\n",
      "7\n",
      "8\n",
      "Fizz\n",
      "buzz\n",
      "11\n",
      "Fizz\n",
      "13\n",
      "14\n",
      "fizzbuzz\n",
      "16\n",
      "17\n",
      "Fizz\n",
      "19\n",
      "buzz\n",
      "Fizz\n",
      "22\n",
      "23\n",
      "Fizz\n",
      "buzz\n",
      "26\n",
      "Fizz\n",
      "28\n",
      "29\n",
      "fizzbuzz\n",
      "31\n",
      "32\n",
      "Fizz\n",
      "34\n",
      "buzz\n",
      "Fizz\n",
      "37\n",
      "38\n",
      "Fizz\n",
      "buzz\n",
      "41\n",
      "Fizz\n",
      "43\n",
      "44\n",
      "fizzbuzz\n",
      "46\n",
      "47\n",
      "Fizz\n",
      "49\n",
      "buzz\n"
     ]
    }
   ],
   "source": [
    "for i in range(1,51):\n",
    "    if (i%3==0 and i%5==0):\n",
    "          print(\"fizzbuzz\")\n",
    "    elif i%3==0:\n",
    "        print(\"Fizz\")\n",
    "    elif i%5==0:\n",
    "        print(\"buzz\")\n",
    "    else:\n",
    "        print(i)"
   ]
  },
  {
   "cell_type": "code",
   "execution_count": 26,
   "id": "b0a74c2e-b8fa-40a9-90b2-b7bc3e342c5d",
   "metadata": {},
   "outputs": [
    {
     "name": "stdin",
     "output_type": "stream",
     "text": [
      "Enter the no. of rows:  5\n",
      "Enter the no. of columns:  5\n"
     ]
    },
    {
     "name": "stdout",
     "output_type": "stream",
     "text": [
      "[0, 0, 0, 0, 0]\n",
      "[0, 1, 2, 3, 4]\n",
      "[0, 2, 4, 6, 8]\n",
      "[0, 3, 6, 9, 12]\n",
      "[0, 4, 8, 12, 16]\n"
     ]
    }
   ],
   "source": [
    "rows=int(input(\"Enter the no. of rows: \"))\n",
    "cols=int(input(\"Enter the no. of columns: \"))\n",
    "\n",
    "arr = [[0] * cols for i in range(rows)]  \n",
    "\n",
    "for i in range(rows):\n",
    "    for j in range(cols):\n",
    "        arr[i][j]=i*j\n",
    "\n",
    "for i in arr:\n",
    "    print(i)"
   ]
  },
  {
   "cell_type": "code",
   "execution_count": 27,
   "id": "9efec13d-cadf-4af1-b401-5ce9fc91c5f9",
   "metadata": {},
   "outputs": [
    {
     "name": "stdin",
     "output_type": "stream",
     "text": [
      "Enter a line (blank line to stop):  malaikahanif\n",
      "Enter a line (blank line to stop):  \n"
     ]
    },
    {
     "name": "stdout",
     "output_type": "stream",
     "text": [
      "OUTPUT: \n",
      "malaikahanif\n"
     ]
    }
   ],
   "source": [
    "lines=[]\n",
    "while True:\n",
    "    string=input(\"Enter a line (blank line to stop): \")\n",
    "    if string==\"\":\n",
    "        break\n",
    "    lines.append(string)\n",
    "\n",
    "print(\"OUTPUT: \")\n",
    "for line in lines:\n",
    "    print(line.lower())"
   ]
  },
  {
   "cell_type": "code",
   "execution_count": 28,
   "id": "0ead2d31-0f5b-40cd-a1ad-9f99edb09939",
   "metadata": {},
   "outputs": [
    {
     "name": "stdin",
     "output_type": "stream",
     "text": [
      "Enter a sequence of 4 digit binary nums separated by commas:  0000,0101,1010,0011\n"
     ]
    },
    {
     "name": "stdout",
     "output_type": "stream",
     "text": [
      "OUTPUT: \n",
      "0000 (0)\n",
      "0101 (5)\n",
      "1010 (10)\n"
     ]
    }
   ],
   "source": [
    "string=input(\"Enter a sequence of 4 digit binary nums separated by commas: \")\n",
    "list=string.split(\",\")\n",
    "print(\"OUTPUT: \")\n",
    "for binary_string in list:\n",
    "    decimal=int(binary_string,2)\n",
    "    if decimal%5==0:\n",
    "        print(f\"{binary_string} ({decimal})\")"
   ]
  },
  {
   "cell_type": "code",
   "execution_count": 29,
   "id": "662e31ee-3c59-4685-81e7-fa12e9a28db1",
   "metadata": {},
   "outputs": [
    {
     "name": "stdin",
     "output_type": "stream",
     "text": [
      "Enter a string and i will tell you the number of letters and digits it contains:  hello! sir\n"
     ]
    },
    {
     "name": "stdout",
     "output_type": "stream",
     "text": [
      "Numbers of letters: 8\n",
      "Numbers of digits: 0\n"
     ]
    }
   ],
   "source": [
    "string=input(\"Enter a string and i will tell you the number of letters and digits it contains: \")\n",
    "digits=0\n",
    "letters=0\n",
    "for i in string:\n",
    "    if (ord(i)>=65 and ord(i)<=90) or (ord(i)>=97 and ord(i)<=122):\n",
    "        letters +=1\n",
    "    elif (ord(i)>=48 and ord(i)<=57):\n",
    "        digits +=1\n",
    "\n",
    "print(f\"Numbers of letters: {letters}\")\n",
    "print(f\"Numbers of digits: {digits}\")"
   ]
  },
  {
   "cell_type": "code",
   "execution_count": 30,
   "id": "55466e33-a8c2-47db-8f07-5c2d309f7639",
   "metadata": {},
   "outputs": [
    {
     "name": "stdin",
     "output_type": "stream",
     "text": [
      "Enter your password:  malaika\n"
     ]
    },
    {
     "name": "stdout",
     "output_type": "stream",
     "text": [
      "Invalid Password: Must contain at least one uppercase letter.\n"
     ]
    }
   ],
   "source": [
    "password = input(\"Enter your password: \")\n",
    "\n",
    "if len(password) < 6 or len(password) > 16:\n",
    "    print(\"Invalid Password: Length must be between 6 and 16 characters.\")\n",
    "elif not any(char.isupper() for char in password):\n",
    "    print(\"Invalid Password: Must contain at least one uppercase letter.\")\n",
    "elif not any(char.islower() for char in password):\n",
    "    print(\"Invalid Password: Must contain at least one lowercase letter.\")\n",
    "elif not any(char.isdigit() for char in password):\n",
    "    print(\"Invalid Password: Must contain at least one digit.\")\n",
    "elif not any(char in \"$#@\" for char in password):\n",
    "    print(\"Invalid Password: Must contain at least one special character ($, #, or @).\")\n",
    "else:\n",
    "    print(\"Valid Password\")"
   ]
  }
 ],
 "metadata": {
  "kernelspec": {
   "display_name": "Python 3 (ipykernel)",
   "language": "python",
   "name": "python3"
  },
  "language_info": {
   "codemirror_mode": {
    "name": "ipython",
    "version": 3
   },
   "file_extension": ".py",
   "mimetype": "text/x-python",
   "name": "python",
   "nbconvert_exporter": "python",
   "pygments_lexer": "ipython3",
   "version": "3.13.3"
  }
 },
 "nbformat": 4,
 "nbformat_minor": 5
}
